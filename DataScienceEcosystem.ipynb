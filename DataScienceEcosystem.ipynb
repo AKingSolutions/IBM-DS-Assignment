{
 "cells": [
  {
   "cell_type": "markdown",
   "id": "7a106a70-0d79-4bfa-86d6-078b9a368e63",
   "metadata": {},
   "source": [
    "# Data Science Tools and Ecosystem"
   ]
  },
  {
   "cell_type": "markdown",
   "id": "6de99e6b-d0ef-4351-baff-fd28475625bf",
   "metadata": {},
   "source": [
    "In this notebook, Data Science Tools and Ecosystem are summarized."
   ]
  },
  {
   "cell_type": "markdown",
   "id": "ede14113-ea0a-4750-acc9-c01285451bdf",
   "metadata": {},
   "source": [
    "**Objectives:**\n",
    "* List popular data science languages\n",
    "* List commonly used libraries\n",
    "* Give some of the common open source tools used by Data Scientists\n",
    "* Give examples of arithmetic expressions in Python"
   ]
  },
  {
   "cell_type": "markdown",
   "id": "2f7199df-de84-4080-bacd-81e79d7bf96e",
   "metadata": {},
   "source": [
    "Some of the popular languages that Data Scientists use are:\n",
    "1. Python\n",
    "2. R\n",
    "3. SQL\n",
    "4. Scala"
   ]
  },
  {
   "cell_type": "markdown",
   "id": "c3345d80-cb7a-468b-9504-0ecda6978e7c",
   "metadata": {},
   "source": [
    "Some of the commonly used libraries used by Data Scientists include:\n",
    "1. Scientific libraries such as Pandas\n",
    "2. Visualization libraries such as Matplotlib and Seaborn\n",
    "3. Machine learning libraries such as Scikit-learn\n",
    "4. Deep learning libraries such as Keras and TensorFlow"
   ]
  },
  {
   "cell_type": "markdown",
   "id": "860e8dbb-a860-406e-9023-e51128dba05f",
   "metadata": {},
   "source": [
    "|Data Science Tools|\n",
    "|---|\n",
    "|Jupyter|\n",
    "|RStudio|\n",
    "|Spyder|"
   ]
  },
  {
   "cell_type": "markdown",
   "id": "cefa369f-1db4-4d95-92db-cd97045c3326",
   "metadata": {},
   "source": [
    "### Below are a few examples of evaluating arithmetic expressions in Python"
   ]
  },
  {
   "cell_type": "code",
   "execution_count": 4,
   "id": "2780615c-9528-4ca1-9484-5af95884e9c1",
   "metadata": {},
   "outputs": [
    {
     "data": {
      "text/plain": [
       "17"
      ]
     },
     "execution_count": 4,
     "metadata": {},
     "output_type": "execute_result"
    }
   ],
   "source": [
    "## This a simple arithmetic expression to mutiply then add integers\n",
    "(3*4)+5"
   ]
  },
  {
   "cell_type": "code",
   "execution_count": 8,
   "id": "5a426f09-5c4d-4dfa-ab0e-cb52964c1abd",
   "metadata": {},
   "outputs": [
    {
     "data": {
      "text/plain": [
       "3.3333333333333335"
      ]
     },
     "execution_count": 8,
     "metadata": {},
     "output_type": "execute_result"
    }
   ],
   "source": [
    "## This will convert 200 minutes to hours by diving by 60\n",
    "200/60"
   ]
  },
  {
   "cell_type": "markdown",
   "id": "fab64614-d691-4780-aaad-38d6d776569f",
   "metadata": {},
   "source": [
    "## Author\n",
    "Aaron King"
   ]
  },
  {
   "cell_type": "code",
   "execution_count": null,
   "id": "1d614d1a-b018-4aa0-9aa6-b3c3059bee2a",
   "metadata": {},
   "outputs": [],
   "source": []
  }
 ],
 "metadata": {
  "kernelspec": {
   "display_name": "Python 3 (ipykernel)",
   "language": "python",
   "name": "python3"
  },
  "language_info": {
   "codemirror_mode": {
    "name": "ipython",
    "version": 3
   },
   "file_extension": ".py",
   "mimetype": "text/x-python",
   "name": "python",
   "nbconvert_exporter": "python",
   "pygments_lexer": "ipython3",
   "version": "3.10.9"
  }
 },
 "nbformat": 4,
 "nbformat_minor": 5
}
